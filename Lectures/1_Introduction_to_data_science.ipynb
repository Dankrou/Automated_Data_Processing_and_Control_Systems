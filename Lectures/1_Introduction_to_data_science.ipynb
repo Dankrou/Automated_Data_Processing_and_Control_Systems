{
 "cells": [
  {
   "cell_type": "markdown",
   "metadata": {},
   "source": [
    "## Автоматизированные информационно-управляющие системы\n",
    "\n",
    "### Лекция 1. Введение в науку о данных\n",
    "\n",
    "<hr>"
   ]
  },
  {
   "cell_type": "markdown",
   "metadata": {},
   "source": [
    "### Версия Python"
   ]
  },
  {
   "cell_type": "code",
   "execution_count": 1,
   "metadata": {},
   "outputs": [
    {
     "name": "stdout",
     "output_type": "stream",
     "text": [
      "Python 3.8.3\n"
     ]
    }
   ],
   "source": [
    "!python --version"
   ]
  },
  {
   "cell_type": "markdown",
   "metadata": {},
   "source": [
    "<hr>\n",
    "\n",
    "### Импорт необходимых инструментов"
   ]
  },
  {
   "cell_type": "code",
   "execution_count": 2,
   "metadata": {},
   "outputs": [],
   "source": [
    "import numpy as np              # Научные вычисления\n",
    "import pandas as pd             # Обработка и анализ данных\n",
    "import matplotlib as mpl        # Визуализация графиков\n",
    "import matplotlib.pyplot as plt # MATLAB-подобный способ построения графиков\n",
    "import seaborn as sns           # Визуализация графиков (надстройка над matplotlib)"
   ]
  },
  {
   "cell_type": "markdown",
   "metadata": {},
   "source": [
    "### Настройки необходимых инструментов"
   ]
  },
  {
   "cell_type": "code",
   "execution_count": 3,
   "metadata": {},
   "outputs": [],
   "source": [
    "pd.set_option('display.max_columns', None) # Максимальное количество отображаемых столбцов\n",
    "pd.set_option('display.max_rows', None)    # Максимальное количество отображаемых строк"
   ]
  },
  {
   "cell_type": "markdown",
   "metadata": {},
   "source": [
    "### Версии необходимых библиотек"
   ]
  },
  {
   "cell_type": "code",
   "execution_count": 4,
   "metadata": {},
   "outputs": [
    {
     "data": {
      "text/html": [
       "<style  type=\"text/css\" >\n",
       "</style><table id=\"T_85ea99ec_ee92_11ea_96af_acde48001122\" ><thead>    <tr>        <th class=\"col_heading level0 col0\" >Package</th>        <th class=\"col_heading level0 col1\" >Version</th>    </tr></thead><tbody>\n",
       "                <tr>\n",
       "                                <td id=\"T_85ea99ec_ee92_11ea_96af_acde48001122row0_col0\" class=\"data row0 col0\" >NumPy</td>\n",
       "                        <td id=\"T_85ea99ec_ee92_11ea_96af_acde48001122row0_col1\" class=\"data row0 col1\" >1.18.5</td>\n",
       "            </tr>\n",
       "            <tr>\n",
       "                                <td id=\"T_85ea99ec_ee92_11ea_96af_acde48001122row1_col0\" class=\"data row1 col0\" >Pandas</td>\n",
       "                        <td id=\"T_85ea99ec_ee92_11ea_96af_acde48001122row1_col1\" class=\"data row1 col1\" >1.0.5</td>\n",
       "            </tr>\n",
       "            <tr>\n",
       "                                <td id=\"T_85ea99ec_ee92_11ea_96af_acde48001122row2_col0\" class=\"data row2 col0\" >Matplotlib</td>\n",
       "                        <td id=\"T_85ea99ec_ee92_11ea_96af_acde48001122row2_col1\" class=\"data row2 col1\" >3.2.2</td>\n",
       "            </tr>\n",
       "            <tr>\n",
       "                                <td id=\"T_85ea99ec_ee92_11ea_96af_acde48001122row3_col0\" class=\"data row3 col0\" >Seaborn</td>\n",
       "                        <td id=\"T_85ea99ec_ee92_11ea_96af_acde48001122row3_col1\" class=\"data row3 col1\" >0.10.1</td>\n",
       "            </tr>\n",
       "    </tbody></table>"
      ],
      "text/plain": [
       "<pandas.io.formats.style.Styler at 0x7f963260fee0>"
      ]
     },
     "execution_count": 4,
     "metadata": {},
     "output_type": "execute_result"
    }
   ],
   "source": [
    "pkgs = {\n",
    "    'Package': [\n",
    "        'NumPy', 'Pandas', 'Matplotlib', 'Seaborn'],\n",
    "    'Version': [i.__version__ for i in [np, pd, mpl, sns]]}\n",
    "\n",
    "df_pkgs = pd.DataFrame(data = pkgs)   # Версии используемых библиотек\n",
    "df_pkgs.head(None).style.hide_index() # Отображение первых N строк или все если указать None"
   ]
  },
  {
   "cell_type": "markdown",
   "metadata": {},
   "source": [
    "### Пример динамической типизации"
   ]
  },
  {
   "cell_type": "code",
   "execution_count": 7,
   "metadata": {},
   "outputs": [
    {
     "name": "stdout",
     "output_type": "stream",
     "text": [
      "10\n",
      "Тестовая строка\n"
     ]
    }
   ],
   "source": [
    "a = 10 # Пример объявления переменной\n",
    "print(a) # Вывод значения переменной\n",
    "\n",
    "a = 'Тестовая строка' # Переопределение переменной\n",
    "print(a)"
   ]
  },
  {
   "cell_type": "markdown",
   "metadata": {},
   "source": [
    "### Основные типы данных"
   ]
  },
  {
   "cell_type": "code",
   "execution_count": 32,
   "metadata": {},
   "outputs": [
    {
     "name": "stdout",
     "output_type": "stream",
     "text": [
      "<class 'str'>\n"
     ]
    }
   ],
   "source": [
    "s = 'Это строка'     # Строка\n",
    "i = 10               # Целое число\n",
    "f = 3.0              # Число с плавающей точкой\n",
    "t = (1, 'a', 2, 'b') # Кортеж — последовательность неизменяемых объектов\n",
    "l = [1, 'a', 2, 'b'] # Список — последовательность изменяемых объектов\n",
    "n = None             # Пусто\n",
    "b = True             # Логический тип\n",
    "\n",
    "# Вывод типа переменной\n",
    "print(\n",
    "    type(s) # Получение типа переменной\n",
    ")"
   ]
  },
  {
   "cell_type": "markdown",
   "metadata": {},
   "source": [
    "### Операции над основными типами данных"
   ]
  },
  {
   "cell_type": "code",
   "execution_count": 35,
   "metadata": {},
   "outputs": [
    {
     "name": "stdout",
     "output_type": "stream",
     "text": [
      "2\n",
      "Это строка\n",
      "Это\n",
      "строка\n",
      "True\n",
      "Это\n"
     ]
    }
   ],
   "source": [
    "# ##############################################\n",
    "# Числа\n",
    "# ##############################################\n",
    "a = 11\n",
    "b = 3\n",
    "\n",
    "add = a + b # Сложение\n",
    "sub = a - b # Вычитание\n",
    "mul = a * b # Умножение\n",
    "div = a / b # Деление\n",
    "rem = a % b # Остаток от деления\n",
    "\n",
    "print(rem) # Вывод остатка от деления\n",
    "\n",
    "# ##############################################\n",
    "# Строки\n",
    "# ##############################################\n",
    "a = 'Это'\n",
    "b = ' строка'\n",
    "\n",
    "concat = a + b # Конкатенация строк\n",
    "sl1 = concat[0:3] # Часть строки (вариант 1)\n",
    "sl2 = concat[-6:10] # Часть строки (вариант 2)\n",
    "\n",
    "print(concat) # Вывод канкатенации строк\n",
    "\n",
    "# Вывод части строки\n",
    "print(sl1) # Вариант 1\n",
    "print(sl2) # Вариант 2\n",
    "\n",
    "# Результат поиска подстроки в строке\n",
    "print('стр' in concat)\n",
    "\n",
    "l = concat.split(' ') # Получение списка всех слов в строке\n",
    "print(l[0]) # Вывод первого элемента списка (первое слово в строке)"
   ]
  }
 ],
 "metadata": {
  "kernelspec": {
   "display_name": "Python 3",
   "language": "python",
   "name": "python3"
  },
  "language_info": {
   "codemirror_mode": {
    "name": "ipython",
    "version": 3
   },
   "file_extension": ".py",
   "mimetype": "text/x-python",
   "name": "python",
   "nbconvert_exporter": "python",
   "pygments_lexer": "ipython3",
   "version": "3.8.3"
  }
 },
 "nbformat": 4,
 "nbformat_minor": 4
}
