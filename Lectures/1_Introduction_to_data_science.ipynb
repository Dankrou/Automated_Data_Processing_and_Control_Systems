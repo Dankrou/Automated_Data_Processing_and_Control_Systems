{
 "cells": [
  {
   "cell_type": "markdown",
   "metadata": {},
   "source": [
    "## Автоматизированные информационно-управляющие системы\n",
    "\n",
    "### Лекция 1. Введение в науку о данных\n",
    "\n",
    "<hr>"
   ]
  },
  {
   "cell_type": "markdown",
   "metadata": {},
   "source": [
    "### Версия Python"
   ]
  },
  {
   "cell_type": "code",
   "execution_count": 1,
   "metadata": {},
   "outputs": [
    {
     "name": "stdout",
     "output_type": "stream",
     "text": [
      "Python 3.8.3\n"
     ]
    }
   ],
   "source": [
    "!python --version"
   ]
  },
  {
   "cell_type": "markdown",
   "metadata": {},
   "source": [
    "<hr>\n",
    "\n",
    "### Импорт необходимых инструментов"
   ]
  },
  {
   "cell_type": "code",
   "execution_count": 2,
   "metadata": {},
   "outputs": [],
   "source": [
    "import numpy as np              # Научные вычисления\n",
    "import pandas as pd             # Обработка и анализ данных\n",
    "import matplotlib as mpl        # Визуализация графиков\n",
    "import matplotlib.pyplot as plt # MATLAB-подобный способ построения графиков\n",
    "import seaborn as sns           # Визуализация графиков (надстройка над matplotlib)"
   ]
  },
  {
   "cell_type": "markdown",
   "metadata": {},
   "source": [
    "### Настройки необходимых инструментов"
   ]
  },
  {
   "cell_type": "code",
   "execution_count": 3,
   "metadata": {},
   "outputs": [],
   "source": [
    "pd.set_option('display.max_columns', None) # Максимальное количество отображаемых столбцов\n",
    "pd.set_option('display.max_rows', None)    # Максимальное количество отображаемых строк"
   ]
  },
  {
   "cell_type": "markdown",
   "metadata": {},
   "source": [
    "### Версии необходимых библиотек"
   ]
  },
  {
   "cell_type": "code",
   "execution_count": 4,
   "metadata": {},
   "outputs": [
    {
     "data": {
      "text/html": [
       "<style  type=\"text/css\" >\n",
       "</style><table id=\"T_85ea99ec_ee92_11ea_96af_acde48001122\" ><thead>    <tr>        <th class=\"col_heading level0 col0\" >Package</th>        <th class=\"col_heading level0 col1\" >Version</th>    </tr></thead><tbody>\n",
       "                <tr>\n",
       "                                <td id=\"T_85ea99ec_ee92_11ea_96af_acde48001122row0_col0\" class=\"data row0 col0\" >NumPy</td>\n",
       "                        <td id=\"T_85ea99ec_ee92_11ea_96af_acde48001122row0_col1\" class=\"data row0 col1\" >1.18.5</td>\n",
       "            </tr>\n",
       "            <tr>\n",
       "                                <td id=\"T_85ea99ec_ee92_11ea_96af_acde48001122row1_col0\" class=\"data row1 col0\" >Pandas</td>\n",
       "                        <td id=\"T_85ea99ec_ee92_11ea_96af_acde48001122row1_col1\" class=\"data row1 col1\" >1.0.5</td>\n",
       "            </tr>\n",
       "            <tr>\n",
       "                                <td id=\"T_85ea99ec_ee92_11ea_96af_acde48001122row2_col0\" class=\"data row2 col0\" >Matplotlib</td>\n",
       "                        <td id=\"T_85ea99ec_ee92_11ea_96af_acde48001122row2_col1\" class=\"data row2 col1\" >3.2.2</td>\n",
       "            </tr>\n",
       "            <tr>\n",
       "                                <td id=\"T_85ea99ec_ee92_11ea_96af_acde48001122row3_col0\" class=\"data row3 col0\" >Seaborn</td>\n",
       "                        <td id=\"T_85ea99ec_ee92_11ea_96af_acde48001122row3_col1\" class=\"data row3 col1\" >0.10.1</td>\n",
       "            </tr>\n",
       "    </tbody></table>"
      ],
      "text/plain": [
       "<pandas.io.formats.style.Styler at 0x7f963260fee0>"
      ]
     },
     "execution_count": 4,
     "metadata": {},
     "output_type": "execute_result"
    }
   ],
   "source": [
    "pkgs = {\n",
    "    'Package': [\n",
    "        'NumPy', 'Pandas', 'Matplotlib', 'Seaborn'],\n",
    "    'Version': [i.__version__ for i in [np, pd, mpl, sns]]}\n",
    "\n",
    "df_pkgs = pd.DataFrame(data = pkgs)   # Версии используемых библиотек\n",
    "df_pkgs.head(None).style.hide_index() # Отображение первых N строк или все если указать None"
   ]
  },
  {
   "cell_type": "markdown",
   "metadata": {},
   "source": [
    "### Пример динамической типизации"
   ]
  },
  {
   "cell_type": "code",
   "execution_count": 7,
   "metadata": {},
   "outputs": [
    {
     "name": "stdout",
     "output_type": "stream",
     "text": [
      "10\n",
      "Тестовая строка\n"
     ]
    }
   ],
   "source": [
    "a = 10 # Пример объявления переменной\n",
    "print(a) # Вывод значения переменной\n",
    "\n",
    "a = 'Тестовая строка' # Переопределение переменной\n",
    "print(a)"
   ]
  },
  {
   "cell_type": "markdown",
   "metadata": {},
   "source": [
    "### Основные типы данных"
   ]
  },
  {
   "cell_type": "code",
   "execution_count": 41,
   "metadata": {},
   "outputs": [
    {
     "name": "stdout",
     "output_type": "stream",
     "text": [
      "<class 'dict'>\n"
     ]
    }
   ],
   "source": [
    "s = 'Это строка'     # Строка\n",
    "i = 10               # Целое число\n",
    "f = 3.0              # Число с плавающей точкой\n",
    "t = (1, 'a', 2, 'b') # Кортеж — последовательность неизменяемых объектов\n",
    "l = [1, 'a', 2, 'b'] # Список — последовательность изменяемых объектов\n",
    "d = { # Словарь — структура для хранения произвольных объектов с доступом по ключу\n",
    "    'price' : 3.14,\n",
    "    'num'   : 10,\n",
    "    'Person': 'Ivanov'\n",
    "}\n",
    "n = None             # Пусто\n",
    "b = True             # Логический тип\n",
    "\n",
    "# Вывод типа переменной\n",
    "print(\n",
    "    type(d) # Получение типа переменной\n",
    ")"
   ]
  },
  {
   "cell_type": "markdown",
   "metadata": {},
   "source": [
    "### Операции над основными типами данных"
   ]
  },
  {
   "cell_type": "code",
   "execution_count": 43,
   "metadata": {},
   "outputs": [
    {
     "name": "stdout",
     "output_type": "stream",
     "text": [
      "2\n",
      "Это строка\n",
      "Это\n",
      "строка\n",
      "True\n",
      "Это\n",
      "2\n",
      "5e\n",
      "Ivanov\n",
      "42\n"
     ]
    }
   ],
   "source": [
    "# ##############################################\n",
    "# Числа\n",
    "# ##############################################\n",
    "a = 11\n",
    "b = 3\n",
    "\n",
    "add = a + b # Сложение\n",
    "sub = a - b # Вычитание\n",
    "mul = a * b # Умножение\n",
    "div = a / b # Деление\n",
    "rem = a % b # Остаток от деления\n",
    "\n",
    "print(rem) # Вывод остатка от деления\n",
    "\n",
    "# ##############################################\n",
    "# Строки\n",
    "# ##############################################\n",
    "a = 'Это'\n",
    "b = ' строка'\n",
    "\n",
    "concat = a + b # Конкатенация строк\n",
    "sl1 = concat[0:3] # Часть строки (вариант 1)\n",
    "sl2 = concat[-6:10] # Часть строки (вариант 2)\n",
    "\n",
    "print(concat) # Вывод канкатенации строк\n",
    "\n",
    "# Вывод части строки\n",
    "print(sl1) # Вариант 1\n",
    "print(sl2) # Вариант 2\n",
    "\n",
    "# Результат поиска подстроки в строке\n",
    "print('стр' in concat)\n",
    "\n",
    "l = concat.split(' ') # Получение списка всех слов в строке\n",
    "print(l[0]) # Вывод первого элемента списка (первое слово в строке)\n",
    "\n",
    "# ##############################################\n",
    "# Списки\n",
    "# ##############################################\n",
    "t = (1, 'a', 2, 'b') # Кортеж\n",
    "l = [3, 'c', 4, 'd'] # Список\n",
    "\n",
    "print(t[2]) # Вывод первого элемента из кортежа\n",
    "\n",
    "l.append('5e') # Добавление элемента в список\n",
    "print(l[-1]) # Вывод последнего элемента из списка\n",
    "\n",
    "# ##############################################\n",
    "# Словарь\n",
    "# ##############################################\n",
    "d = { # Словарь\n",
    "    'price' : 3.14,\n",
    "    'num'   : 10,\n",
    "    'Person': 'Ivanov'\n",
    "}\n",
    "\n",
    "print(d['Person']) # Вывод значения из словаря по ключу\n",
    "\n",
    "d['ID'] = 42 # # Добавление элемента в словарь\n",
    "print(d['ID']) # Вывод значения из словаря по ключу"
   ]
  },
  {
   "cell_type": "markdown",
   "metadata": {},
   "source": [
    "### Управляющие конструкции\n",
    "\n",
    "> if, for"
   ]
  },
  {
   "cell_type": "code",
   "execution_count": 50,
   "metadata": {},
   "outputs": [
    {
     "name": "stdout",
     "output_type": "stream",
     "text": [
      "[0, 2, 4, 6, 8, 10]\n",
      "[11, 13, 15, 17, 19]\n",
      "5\n"
     ]
    }
   ],
   "source": [
    "my_list = [] # Создание пустого списка\n",
    "\n",
    "# Циклический проход по заданному диапазону\n",
    "for number in range(0, 11):\n",
    "    # Текущее число делится на 2 без остатка\n",
    "    if number % 2 == 0:\n",
    "        # Добавление числа в список\n",
    "        my_list.append(number)\n",
    "\n",
    "print(my_list) # Вывод списка\n",
    "\n",
    "# Сокращенный вариант\n",
    "short_my_list = [number for number in range(10, 20) if number % 2 != 0]\n",
    "print(short_my_list) # Вывод списка\n",
    "print(len(short_my_list)) # Вывод количества элементов в списке"
   ]
  },
  {
   "cell_type": "markdown",
   "metadata": {},
   "source": [
    "### Функции"
   ]
  },
  {
   "cell_type": "code",
   "execution_count": 57,
   "metadata": {},
   "outputs": [
    {
     "name": "stdout",
     "output_type": "stream",
     "text": [
      "3\n",
      "\n",
      "Ошибка! Переданы неверные аргументы ...\n",
      "None\n"
     ]
    }
   ],
   "source": [
    "def add_numbers(x, y):\n",
    "    \"\"\"\n",
    "    Сложение двух чисел\n",
    "\n",
    "    (int, int) -> int | None\n",
    "\n",
    "    Аргументы:\n",
    "        x - Первое число\n",
    "        y - Второе число\n",
    "\n",
    "    Возвращает: сумма двух чисел или None\n",
    "    \"\"\"\n",
    "    \n",
    "    # Проверка аргументов\n",
    "    if type(x) is not int or type(y) is not int:\n",
    "        # Вывод сообщения\n",
    "        print('Ошибка! Переданы неверные аргументы ...')\n",
    "\n",
    "        return None\n",
    "    \n",
    "    # Результат\n",
    "    return x + y\n",
    "\n",
    "res = add_numbers(1, 2) # Результат сложения двух чисел\n",
    "print(res) # Вывод результата\n",
    "\n",
    "print() # Пустая строка\n",
    "\n",
    "res = add_numbers(1, '2') # Результат сложения двух чисел\n",
    "print(res) # Вывод результата"
   ]
  },
  {
   "cell_type": "markdown",
   "metadata": {},
   "source": [
    "### Лямбда-выражение"
   ]
  },
  {
   "cell_type": "code",
   "execution_count": 63,
   "metadata": {},
   "outputs": [
    {
     "name": "stdout",
     "output_type": "stream",
     "text": [
      "6.0\n"
     ]
    },
    {
     "data": {
      "text/plain": [
       "12.0"
      ]
     },
     "execution_count": 63,
     "metadata": {},
     "output_type": "execute_result"
    }
   ],
   "source": [
    "# Лямбда-выражение, которое перемножает первые 2 аргумента и результат делит на 3 аргумент\n",
    "res = lambda x, y, z = 10: x * y / z\n",
    "print(res(2, 30)) # Вывод результата лямбда-выражения (вариант 1)\n",
    "\n",
    "(lambda x, y, z = 10: x * y / z)(3, 40) # Вывод результата лямбда-выражения (вариант 2)"
   ]
  },
  {
   "cell_type": "markdown",
   "metadata": {},
   "source": [
    "### Генераторы"
   ]
  },
  {
   "cell_type": "code",
   "execution_count": 78,
   "metadata": {},
   "outputs": [
    {
     "name": "stdout",
     "output_type": "stream",
     "text": [
      "<generator object numbers at 0x7f96354b1ac0>\n",
      "[0, 2, 4, 6, 8, 10]\n"
     ]
    }
   ],
   "source": [
    "def numbers(start, finish):\n",
    "    \"\"\"\n",
    "    Генератор списка в указанном диапазоне и определенным условием\n",
    "\n",
    "    (int, int) -> generator\n",
    "\n",
    "    Аргументы:\n",
    "        start - Начальный порог\n",
    "        finish - Конечный порог\n",
    "\n",
    "    Возвращает: generator или None\n",
    "    \"\"\"\n",
    "    \n",
    "    # Проверка аргументов\n",
    "    if type(start) is not int or type(finish) is not int:\n",
    "        # Вывод сообщения\n",
    "        print('Ошибка! Переданы неверные аргументы ...')\n",
    "\n",
    "        return None\n",
    "    \n",
    "    # Циклический проход по заданному диапазону\n",
    "    while start < finish:\n",
    "        # Текущее число делится на 2 без остатка\n",
    "        if start % 2 == 0:\n",
    "            yield start # Возвращение объекта-генератора, а не выполнение кода сразу\n",
    "        \n",
    "        start += 1 # Увеличение начального порога\n",
    "\n",
    "res = numbers(0, 11) # Результат генерации списка\n",
    "\n",
    "print(res) # Вывод результата\n",
    "print(list(res)) # Конвертация результата в список и вывод результата"
   ]
  },
  {
   "cell_type": "markdown",
   "metadata": {},
   "source": [
    "### Декораторы"
   ]
  },
  {
   "cell_type": "code",
   "execution_count": 94,
   "metadata": {},
   "outputs": [
    {
     "name": "stdout",
     "output_type": "stream",
     "text": [
      "Запуск функции: print_sqrt(), с параметром: 4.5\n",
      "2.121\n"
     ]
    }
   ],
   "source": [
    "def param_transfer(fn):\n",
    "    \"\"\"\n",
    "    Декоратор\n",
    "\n",
    "    (function) -> function\n",
    "\n",
    "    Аргументы:\n",
    "        fn - Функция, которую нужно декорировать\n",
    "\n",
    "    Возвращает: новая функция\n",
    "    \"\"\"\n",
    "    \n",
    "    def wrapper(arg):\n",
    "        print('Запуск функции: ' + str(fn.__name__) + '(), с параметром: ' + str(arg))\n",
    "        fn(arg)\n",
    "    \n",
    "    return wrapper\n",
    "\n",
    "@param_transfer\n",
    "def print_sqrt(num):\n",
    "    \"\"\"\n",
    "    Вычисление квадратного корня\n",
    "\n",
    "    (float) -> float\n",
    "\n",
    "    Аргументы:\n",
    "        num - Число\n",
    "\n",
    "    Возвращает: квадратный корень\n",
    "    \"\"\"\n",
    "    \n",
    "    # Вывод округленного результата\n",
    "    print(\n",
    "        round(num ** 0.5, 3)\n",
    "    )\n",
    "    \n",
    "print_sqrt(4.5)"
   ]
  },
  {
   "cell_type": "markdown",
   "metadata": {},
   "source": [
    "### Принципы загрузки и чтения данных"
   ]
  },
  {
   "cell_type": "code",
   "execution_count": 113,
   "metadata": {},
   "outputs": [
    {
     "data": {
      "text/plain": [
       "[{'Car Name': 'McLaren F1',\n",
       "  'Displacement': '6.100000345',\n",
       "  'Enginee': 'V12',\n",
       "  'hp': '618',\n",
       "  'Transmission': '6',\n",
       "  'Toppp-speeed': '243',\n",
       "  'Cost': '25000000'},\n",
       " {'Car Name': 'Bugatti Chiron',\n",
       "  'Displacement': '8',\n",
       "  'Enginee': 'W16',\n",
       "  'hp': '1479',\n",
       "  'Transmission': '7',\n",
       "  'Toppp-speeed': '250',\n",
       "  'Cost': '3000000'},\n",
       " {'Car Name': 'Mercedes-AMG ONE',\n",
       "  'Displacement': '1.6',\n",
       "  'Enginee': 'V6',\n",
       "  'hp': '748',\n",
       "  'Transmission': '8',\n",
       "  'Toppp-speeed': '217',\n",
       "  'Cost': '2653000'}]"
      ]
     },
     "execution_count": 113,
     "metadata": {},
     "output_type": "execute_result"
    }
   ],
   "source": [
    "import csv # Чтение и запись CSV файлов\n",
    "\n",
    "%precision 2 # Магическая команда (Округление чисел до 2 знаков после запятой)\n",
    "\n",
    "# Чтение CSV файла \n",
    "with open('../CSV/Hyper_Cars_2019.csv') as csvfile:\n",
    "    # Список словарей\n",
    "    HC = list(csv.DictReader(csvfile))\n",
    "\n",
    "# Примечание! Ключами словарей являются имена столбцов CSV файла\n",
    "HC[:3] # Чтение первых трех словарей из списка"
   ]
  },
  {
   "cell_type": "code",
   "execution_count": 114,
   "metadata": {},
   "outputs": [
    {
     "data": {
      "text/plain": [
       "12"
      ]
     },
     "execution_count": 114,
     "metadata": {},
     "output_type": "execute_result"
    }
   ],
   "source": [
    "len(HC) # Длина списка = количеству записей в CSV файле"
   ]
  },
  {
   "cell_type": "code",
   "execution_count": 115,
   "metadata": {},
   "outputs": [
    {
     "data": {
      "text/plain": [
       "dict_keys(['Car Name', 'Displacement', 'Enginee', 'hp', 'Transmission', 'Toppp-speeed', 'Cost'])"
      ]
     },
     "execution_count": 115,
     "metadata": {},
     "output_type": "execute_result"
    }
   ],
   "source": [
    "HC[0].keys() # Имена столбцов"
   ]
  },
  {
   "cell_type": "code",
   "execution_count": 116,
   "metadata": {},
   "outputs": [
    {
     "data": {
      "text/plain": [
       "4188000.00"
      ]
     },
     "execution_count": 116,
     "metadata": {},
     "output_type": "execute_result"
    }
   ],
   "source": [
    "# Средняя цена всех автомобилей\n",
    "sum(float(d['Cost']) for d in HC) / len(HC)"
   ]
  },
  {
   "cell_type": "code",
   "execution_count": 121,
   "metadata": {},
   "outputs": [
    {
     "data": {
      "text/plain": [
       "{'Aston Martin Valkyrie',\n",
       " 'Bugatti Chiron',\n",
       " 'Bugatti Veyronre',\n",
       " 'Ferrari LaFerrari',\n",
       " 'Koenigseeeggg Agera',\n",
       " 'McLaren F1',\n",
       " 'McLaren Sennaaaa',\n",
       " 'Mercedes-AMG ONE',\n",
       " 'Pagaaani Huayra BC',\n",
       " 'Porsche 918 Spyder'}"
      ]
     },
     "execution_count": 121,
     "metadata": {},
     "output_type": "execute_result"
    }
   ],
   "source": [
    "# Список из всех уникальных названий автомобилей\n",
    "car_name = set(d['Car Name'] for d in HC)\n",
    "car_name"
   ]
  },
  {
   "cell_type": "code",
   "execution_count": 123,
   "metadata": {},
   "outputs": [
    {
     "data": {
      "text/plain": [
       "[('Aston Martin Valkyrie', 3200000.00),\n",
       " ('Bugatti Chiron', 3000000.00),\n",
       " ('Bugatti Veyronre', 2050000.00),\n",
       " ('Ferrari LaFerrari', 2000000.00),\n",
       " ('Koenigseeeggg Agera', 2500000.00),\n",
       " ('McLaren F1', 25000000.00),\n",
       " ('McLaren Sennaaaa', 1500000.00),\n",
       " ('Mercedes-AMG ONE', 2753000.00),\n",
       " ('Pagaaani Huayra BC', 2550000.00),\n",
       " ('Porsche 918 Spyder', 900000.00)]"
      ]
     },
     "execution_count": 123,
     "metadata": {},
     "output_type": "execute_result"
    }
   ],
   "source": [
    "# #############################################################\n",
    "# Список из средней цены автомобилей сгрупированных по названию\n",
    "# #############################################################\n",
    "aver_cost = [] # Пуской список для будущих цен\n",
    "\n",
    "# Проход по всем уникальным названиям машин\n",
    "for c in car_name:\n",
    "    sum_cost = 0 # Сумма всех цен, которые группируются по названиям машин\n",
    "    cnt = 0 # Счетчик названий сгруппированных названий машин\n",
    "    \n",
    "    # Проход по всем записям CSV файла\n",
    "    for d in HC:\n",
    "        # Название уникальной машины соответствует названию из общего CSV файла\n",
    "        if d['Car Name'] == c:\n",
    "            sum_cost += float(d['Cost']) # Сумма цен сгруппированных машин\n",
    "            cnt += 1 # Увеличение счетчика\n",
    "\n",
    "    # Кортеж из марки машины и средней цены\n",
    "    aver_cost.append((c, sum_cost / cnt))\n",
    "\n",
    "# Сортировка от максимального значения до минимальной\n",
    "aver_cost.sort(key = lambda x: x[0])\n",
    "aver_cost"
   ]
  },
  {
   "cell_type": "markdown",
   "metadata": {},
   "source": [
    "### Работа с датой и временем"
   ]
  },
  {
   "cell_type": "code",
   "execution_count": 127,
   "metadata": {},
   "outputs": [
    {
     "data": {
      "text/plain": [
       "1599306235.95"
      ]
     },
     "execution_count": 127,
     "metadata": {},
     "output_type": "execute_result"
    }
   ],
   "source": [
    "# Работа со временем\n",
    "import datetime as dt\n",
    "import time as tm\n",
    "\n",
    "tm.time() # Временная метка начиная с 1 января 1970 г."
   ]
  },
  {
   "cell_type": "code",
   "execution_count": 129,
   "metadata": {},
   "outputs": [
    {
     "data": {
      "text/plain": [
       "datetime.datetime(2020, 9, 5, 14, 45, 40, 624382)"
      ]
     },
     "execution_count": 129,
     "metadata": {},
     "output_type": "execute_result"
    }
   ],
   "source": [
    "# Конвертация временной метки в читаемый вид\n",
    "dtnow = dt.datetime.fromtimestamp(tm.time())\n",
    "dtnow # Год, месяц, денб, часы, минуты, секунты, миллисекунды"
   ]
  },
  {
   "cell_type": "code",
   "execution_count": 130,
   "metadata": {},
   "outputs": [
    {
     "data": {
      "text/plain": [
       "(2020, 9, 5, 14, 45, 40, 624382)"
      ]
     },
     "execution_count": 130,
     "metadata": {},
     "output_type": "execute_result"
    }
   ],
   "source": [
    "# Год, месяц, денб, часы, минуты, секунты, миллисекунды\n",
    "dtnow.year, dtnow.month, dtnow.day, dtnow.hour, dtnow.minute, dtnow.second, dtnow.microsecond"
   ]
  },
  {
   "cell_type": "code",
   "execution_count": 134,
   "metadata": {},
   "outputs": [
    {
     "data": {
      "text/plain": [
       "datetime.date(2020, 9, 5)"
      ]
     },
     "execution_count": 134,
     "metadata": {},
     "output_type": "execute_result"
    }
   ],
   "source": [
    "# Текущая дата\n",
    "today = dt.date.today()\n",
    "today"
   ]
  },
  {
   "cell_type": "code",
   "execution_count": 136,
   "metadata": {},
   "outputs": [
    {
     "data": {
      "text/plain": [
       "datetime.date(2020, 5, 28)"
      ]
     },
     "execution_count": 136,
     "metadata": {},
     "output_type": "execute_result"
    }
   ],
   "source": [
    "# Минус 100 дней от текущего\n",
    "today - dt.timedelta(days = 100)"
   ]
  },
  {
   "cell_type": "markdown",
   "metadata": {},
   "source": [
    "### Применение функции к каждому элементу указанной последовательности/последовательностей"
   ]
  },
  {
   "cell_type": "code",
   "execution_count": 142,
   "metadata": {},
   "outputs": [
    {
     "name": "stdout",
     "output_type": "stream",
     "text": [
      "15.0\n",
      "11.1\n",
      "54.64\n",
      "12.01\n"
     ]
    }
   ],
   "source": [
    "# Списки\n",
    "store_1 = [15.00, 12.00, 54.64, 12.34]\n",
    "store_2 = [23.00, 11.10, 54.64, 12.01]\n",
    "\n",
    "# Попарный поиск минимального значения из последовательностей\n",
    "cheapest = map(min, store_1, store_2)\n",
    "\n",
    "# Проход по всем минимальным значениям\n",
    "for item in cheapest:\n",
    "    print(item) # Вывод минимальных значений\n"
   ]
  },
  {
   "cell_type": "markdown",
   "metadata": {},
   "source": [
    "### Выбор подмножеств данных"
   ]
  },
  {
   "cell_type": "code",
   "execution_count": 147,
   "metadata": {},
   "outputs": [
    {
     "data": {
      "text/plain": [
       "['Покупатель Б.', 'Покупатель М.', 'Покупатель Е.', 'Покупатель К.']"
      ]
     },
     "execution_count": 147,
     "metadata": {},
     "output_type": "execute_result"
    }
   ],
   "source": [
    "people = ['Покупатель А. Б.', 'Покупатель В. М.', 'Покупатель Д. Е.', 'Покупатель И. К.']\n",
    "\n",
    "def split_name(person):\n",
    "    title = person.split()[0]\n",
    "    lastname = person.split()[-1]\n",
    "    return '{} {}'.format(title, lastname)\n",
    "\n",
    "list(map(split_title_and_name, people))"
   ]
  },
  {
   "cell_type": "markdown",
   "metadata": {},
   "source": [
    "### Работа с матрицами\n",
    "\n",
    "#### Объединение информации"
   ]
  },
  {
   "cell_type": "code",
   "execution_count": 153,
   "metadata": {},
   "outputs": [
    {
     "name": "stdout",
     "output_type": "stream",
     "text": [
      "[1 2 3]\n",
      "[1 2 3]\n",
      "[[1 2 3]\n",
      " [4 5 6]]\n",
      "(2, 3)\n"
     ]
    }
   ],
   "source": [
    "import numpy as np # Научные вычисления\n",
    "\n",
    "# Создание списка и преобразование его в вектор (вариант 1)\n",
    "l = [1, 2, 3]\n",
    "vec = np.array(l)\n",
    "print(vec)\n",
    "\n",
    "# Вариант 2\n",
    "vec = np.array([1, 2, 3])\n",
    "print(vec)\n",
    "\n",
    "# Вариант 3 (Массив)\n",
    "arr = np.array([[1, 2, 3], [4, 5, 6]])\n",
    "print(arr)\n",
    "\n",
    "print(arr.shape) # Размер массива (строки, столбцы)"
   ]
  },
  {
   "cell_type": "code",
   "execution_count": 157,
   "metadata": {},
   "outputs": [
    {
     "name": "stdout",
     "output_type": "stream",
     "text": [
      "[[ 8 10 12]\n",
      " [11 13 15]]\n",
      "[[1 2 3]\n",
      " [4 5 6]\n",
      " [7 8 9]]\n"
     ]
    }
   ],
   "source": [
    "print(arr + np.array([[7, 8, 9]])) # Сложение массивов\n",
    "# Объединение массивов\n",
    "print(\n",
    "    np.concatenate(\n",
    "        (arr, np.array([[7, 8, 9]]))\n",
    "    )\n",
    ")"
   ]
  },
  {
   "cell_type": "code",
   "execution_count": 177,
   "metadata": {},
   "outputs": [
    {
     "data": {
      "text/plain": [
       "array([[1, 2],\n",
       "       [4, 5]])"
      ]
     },
     "execution_count": 177,
     "metadata": {},
     "output_type": "execute_result"
    }
   ],
   "source": [
    "# Выбор подмножеств данных - строка, столбец (вариант 1)\n",
    "np.array([\n",
    "    [1, 2, 3],\n",
    "    [4, 5, 6]\n",
    "])[:2,:2]"
   ]
  },
  {
   "cell_type": "code",
   "execution_count": 178,
   "metadata": {},
   "outputs": [
    {
     "data": {
      "text/plain": [
       "array([[1, 2, 3],\n",
       "       [4, 5, 6]])"
      ]
     },
     "execution_count": 178,
     "metadata": {},
     "output_type": "execute_result"
    }
   ],
   "source": [
    "# Выбор подмножеств данных (вариант 2)\n",
    "np.array([\n",
    "    [1, 2, 3],\n",
    "    [4, 5, 6],\n",
    "    [7, 8, 9]\n",
    "])[:2]"
   ]
  },
  {
   "cell_type": "code",
   "execution_count": 179,
   "metadata": {},
   "outputs": [
    {
     "data": {
      "text/plain": [
       "array([[1, 2, 3],\n",
       "       [4, 5, 6]])"
      ]
     },
     "execution_count": 179,
     "metadata": {},
     "output_type": "execute_result"
    }
   ],
   "source": [
    "# Выбор подмножеств данных (вариант 3)\n",
    "np.array([\n",
    "    [1, 2, 3],\n",
    "    [4, 5, 6],\n",
    "    [7, 8, 9]\n",
    "])[:-1]"
   ]
  },
  {
   "cell_type": "code",
   "execution_count": 180,
   "metadata": {},
   "outputs": [
    {
     "data": {
      "text/plain": [
       "array([[5, 6],\n",
       "       [8, 9]])"
      ]
     },
     "execution_count": 180,
     "metadata": {},
     "output_type": "execute_result"
    }
   ],
   "source": [
    "# Выбор подмножеств данных (вариант 4)\n",
    "np.array([\n",
    "    [1, 2, 3],\n",
    "    [4, 5, 6],\n",
    "    [7, 8, 9]\n",
    "])[1:, 1:]"
   ]
  },
  {
   "cell_type": "code",
   "execution_count": 181,
   "metadata": {},
   "outputs": [
    {
     "data": {
      "text/plain": [
       "array([6, 7, 8, 9])"
      ]
     },
     "execution_count": 181,
     "metadata": {},
     "output_type": "execute_result"
    }
   ],
   "source": [
    "# Селекция\n",
    "arr = np.array([[1, 2, 3], [4, 5, 6], [7, 8, 9]])\n",
    "arr[arr > 5]"
   ]
  },
  {
   "cell_type": "code",
   "execution_count": 184,
   "metadata": {},
   "outputs": [
    {
     "data": {
      "text/plain": [
       "[0, 1, 4, 9, 16, 25, 36, 49, 64, 81]"
      ]
     },
     "execution_count": 184,
     "metadata": {},
     "output_type": "execute_result"
    }
   ],
   "source": [
    "[x**2 for x in range(10)]\n"
   ]
  },
  {
   "cell_type": "markdown",
   "metadata": {},
   "source": [
    "### Фильтрация данных"
   ]
  },
  {
   "cell_type": "code",
   "execution_count": 192,
   "metadata": {},
   "outputs": [
    {
     "name": "stdout",
     "output_type": "stream",
     "text": [
      "Car Name,Displacement,Enginee,hp,Transmission,Toppp-speeed,Cost\n",
      "McLaren F1,6.100000345,V12,618,6,243,\"25000000\"\n",
      "Bugatti Chiron,8,W16,1479,7,250,\"3000000\"\n",
      "Mercedes-AMG ONE,1.6,V6,748,8,217,\"2653000\"\n",
      "Mercedes-AMG ONE,1.6,V6,748,8,217,\"2853000\"\n",
      "McLaren Sennaaaa,4,V8987654,789,NaN,211,\"1500000\"\n",
      "Koenigseeeggg Agera,5,V8,1016,NaN,249,\"2500000\"\n",
      "Porsche 918 Spyder,Hello,V8,NaN,7,211,\"900000\"\n",
      "Ferrari LaFerrari,6.3,V12,949,7,NaN,\"2000000\"\n",
      "Pagaaani Huayra BC,6,__,745,7,230,\"2550000\"\n",
      "Aston Martin Valkyrie,6.590987865,V12,NaN,NaN,250,\"3200000\"\n",
      "Bugatti Veyronre,8,W16,987,7,267.856,\"2000000\"\n",
      "Bugatti Veyronre,8,W16,987,7,267.856,\"2100000\"\n"
     ]
    }
   ],
   "source": [
    "import pandas as pd # Обработка и анализ данных\n",
    "\n",
    "!head -n 20 ../CSV/Hyper_Cars_2019.csv # Просмотр первых 20 записей из CSV файла"
   ]
  },
  {
   "cell_type": "code",
   "execution_count": 213,
   "metadata": {},
   "outputs": [
    {
     "data": {
      "text/html": [
       "<div>\n",
       "<style scoped>\n",
       "    .dataframe tbody tr th:only-of-type {\n",
       "        vertical-align: middle;\n",
       "    }\n",
       "\n",
       "    .dataframe tbody tr th {\n",
       "        vertical-align: top;\n",
       "    }\n",
       "\n",
       "    .dataframe thead th {\n",
       "        text-align: right;\n",
       "    }\n",
       "</style>\n",
       "<table border=\"1\" class=\"dataframe\">\n",
       "  <thead>\n",
       "    <tr style=\"text-align: right;\">\n",
       "      <th></th>\n",
       "      <th>Car Name</th>\n",
       "      <th>Displacement</th>\n",
       "      <th>Enginee</th>\n",
       "      <th>hp</th>\n",
       "      <th>Transmission</th>\n",
       "      <th>Toppp-speeed</th>\n",
       "      <th>Cost</th>\n",
       "    </tr>\n",
       "  </thead>\n",
       "  <tbody>\n",
       "    <tr>\n",
       "      <th>0</th>\n",
       "      <td>McLaren F1</td>\n",
       "      <td>6.100000345</td>\n",
       "      <td>V12</td>\n",
       "      <td>618.0</td>\n",
       "      <td>6.0</td>\n",
       "      <td>243.0</td>\n",
       "      <td>25000000</td>\n",
       "    </tr>\n",
       "    <tr>\n",
       "      <th>1</th>\n",
       "      <td>Bugatti Chiron</td>\n",
       "      <td>8</td>\n",
       "      <td>W16</td>\n",
       "      <td>1479.0</td>\n",
       "      <td>7.0</td>\n",
       "      <td>250.0</td>\n",
       "      <td>3000000</td>\n",
       "    </tr>\n",
       "    <tr>\n",
       "      <th>2</th>\n",
       "      <td>Mercedes-AMG ONE</td>\n",
       "      <td>1.6</td>\n",
       "      <td>V6</td>\n",
       "      <td>748.0</td>\n",
       "      <td>8.0</td>\n",
       "      <td>217.0</td>\n",
       "      <td>2653000</td>\n",
       "    </tr>\n",
       "    <tr>\n",
       "      <th>3</th>\n",
       "      <td>Mercedes-AMG ONE</td>\n",
       "      <td>1.6</td>\n",
       "      <td>V6</td>\n",
       "      <td>748.0</td>\n",
       "      <td>8.0</td>\n",
       "      <td>217.0</td>\n",
       "      <td>2853000</td>\n",
       "    </tr>\n",
       "    <tr>\n",
       "      <th>4</th>\n",
       "      <td>McLaren Sennaaaa</td>\n",
       "      <td>4</td>\n",
       "      <td>V8987654</td>\n",
       "      <td>789.0</td>\n",
       "      <td>NaN</td>\n",
       "      <td>211.0</td>\n",
       "      <td>1500000</td>\n",
       "    </tr>\n",
       "  </tbody>\n",
       "</table>\n",
       "</div>"
      ],
      "text/plain": [
       "           Car Name Displacement   Enginee      hp  Transmission  \\\n",
       "0        McLaren F1  6.100000345       V12   618.0           6.0   \n",
       "1    Bugatti Chiron            8       W16  1479.0           7.0   \n",
       "2  Mercedes-AMG ONE          1.6        V6   748.0           8.0   \n",
       "3  Mercedes-AMG ONE          1.6        V6   748.0           8.0   \n",
       "4  McLaren Sennaaaa            4  V8987654   789.0           NaN   \n",
       "\n",
       "   Toppp-speeed      Cost  \n",
       "0         243.0  25000000  \n",
       "1         250.0   3000000  \n",
       "2         217.0   2653000  \n",
       "3         217.0   2853000  \n",
       "4         211.0   1500000  "
      ]
     },
     "execution_count": 213,
     "metadata": {},
     "output_type": "execute_result"
    }
   ],
   "source": [
    "# Считать первые 5 записей из CSV файла и отобразить их\n",
    "df = pd.read_csv('../CSV/Hyper_Cars_2019.csv')\n",
    "df.head(5)"
   ]
  },
  {
   "cell_type": "code",
   "execution_count": 214,
   "metadata": {},
   "outputs": [
    {
     "data": {
      "text/html": [
       "<div>\n",
       "<style scoped>\n",
       "    .dataframe tbody tr th:only-of-type {\n",
       "        vertical-align: middle;\n",
       "    }\n",
       "\n",
       "    .dataframe tbody tr th {\n",
       "        vertical-align: top;\n",
       "    }\n",
       "\n",
       "    .dataframe thead th {\n",
       "        text-align: right;\n",
       "    }\n",
       "</style>\n",
       "<table border=\"1\" class=\"dataframe\">\n",
       "  <thead>\n",
       "    <tr style=\"text-align: right;\">\n",
       "      <th></th>\n",
       "      <th>Car Name</th>\n",
       "      <th>Displacement</th>\n",
       "      <th>Enginee</th>\n",
       "      <th>hp</th>\n",
       "      <th>Transmission</th>\n",
       "      <th>Toppp-speeed</th>\n",
       "      <th>Cost</th>\n",
       "    </tr>\n",
       "  </thead>\n",
       "  <tbody>\n",
       "    <tr>\n",
       "      <th>0</th>\n",
       "      <td>McLaren F1</td>\n",
       "      <td>6.100000345</td>\n",
       "      <td>V12</td>\n",
       "      <td>618.0</td>\n",
       "      <td>6.0</td>\n",
       "      <td>243.0</td>\n",
       "      <td>25000000</td>\n",
       "    </tr>\n",
       "    <tr>\n",
       "      <th>1</th>\n",
       "      <td>Bugatti Chiron</td>\n",
       "      <td>8</td>\n",
       "      <td>W16</td>\n",
       "      <td>1479.0</td>\n",
       "      <td>7.0</td>\n",
       "      <td>250.0</td>\n",
       "      <td>3000000</td>\n",
       "    </tr>\n",
       "    <tr>\n",
       "      <th>2</th>\n",
       "      <td>Mercedes-AMG ONE</td>\n",
       "      <td>1.6</td>\n",
       "      <td>V6</td>\n",
       "      <td>748.0</td>\n",
       "      <td>8.0</td>\n",
       "      <td>217.0</td>\n",
       "      <td>2653000</td>\n",
       "    </tr>\n",
       "    <tr>\n",
       "      <th>3</th>\n",
       "      <td>Mercedes-AMG ONE</td>\n",
       "      <td>1.6</td>\n",
       "      <td>V6</td>\n",
       "      <td>748.0</td>\n",
       "      <td>8.0</td>\n",
       "      <td>217.0</td>\n",
       "      <td>2853000</td>\n",
       "    </tr>\n",
       "    <tr>\n",
       "      <th>4</th>\n",
       "      <td>McLaren Sennaaaa</td>\n",
       "      <td>4</td>\n",
       "      <td>V8987654</td>\n",
       "      <td>789.0</td>\n",
       "      <td>0.0</td>\n",
       "      <td>211.0</td>\n",
       "      <td>1500000</td>\n",
       "    </tr>\n",
       "  </tbody>\n",
       "</table>\n",
       "</div>"
      ],
      "text/plain": [
       "           Car Name Displacement   Enginee      hp  Transmission  \\\n",
       "0        McLaren F1  6.100000345       V12   618.0           6.0   \n",
       "1    Bugatti Chiron            8       W16  1479.0           7.0   \n",
       "2  Mercedes-AMG ONE          1.6        V6   748.0           8.0   \n",
       "3  Mercedes-AMG ONE          1.6        V6   748.0           8.0   \n",
       "4  McLaren Sennaaaa            4  V8987654   789.0           0.0   \n",
       "\n",
       "   Toppp-speeed      Cost  \n",
       "0         243.0  25000000  \n",
       "1         250.0   3000000  \n",
       "2         217.0   2653000  \n",
       "3         217.0   2853000  \n",
       "4         211.0   1500000  "
      ]
     },
     "execution_count": 214,
     "metadata": {},
     "output_type": "execute_result"
    }
   ],
   "source": [
    "# Заполнить пустые значения нулями\n",
    "df = pd.read_csv('../CSV/Hyper_Cars_2019.csv').fillna(0)\n",
    "df.head(5)"
   ]
  },
  {
   "cell_type": "code",
   "execution_count": 234,
   "metadata": {},
   "outputs": [
    {
     "data": {
      "text/html": [
       "<div>\n",
       "<style scoped>\n",
       "    .dataframe tbody tr th:only-of-type {\n",
       "        vertical-align: middle;\n",
       "    }\n",
       "\n",
       "    .dataframe tbody tr th {\n",
       "        vertical-align: top;\n",
       "    }\n",
       "\n",
       "    .dataframe thead th {\n",
       "        text-align: right;\n",
       "    }\n",
       "</style>\n",
       "<table border=\"1\" class=\"dataframe\">\n",
       "  <thead>\n",
       "    <tr style=\"text-align: right;\">\n",
       "      <th></th>\n",
       "      <th>Displacement</th>\n",
       "      <th>Enginee</th>\n",
       "      <th>hp</th>\n",
       "      <th>Transmission</th>\n",
       "      <th>Toppp-speeed</th>\n",
       "      <th>Cost</th>\n",
       "    </tr>\n",
       "    <tr>\n",
       "      <th>Car Name</th>\n",
       "      <th></th>\n",
       "      <th></th>\n",
       "      <th></th>\n",
       "      <th></th>\n",
       "      <th></th>\n",
       "      <th></th>\n",
       "    </tr>\n",
       "  </thead>\n",
       "  <tbody>\n",
       "    <tr>\n",
       "      <th>McLaren F1</th>\n",
       "      <td>6.100000345</td>\n",
       "      <td>V12</td>\n",
       "      <td>618.0</td>\n",
       "      <td>6.0</td>\n",
       "      <td>243.000</td>\n",
       "      <td>25000000</td>\n",
       "    </tr>\n",
       "    <tr>\n",
       "      <th>Bugatti Chiron</th>\n",
       "      <td>8</td>\n",
       "      <td>W16</td>\n",
       "      <td>1479.0</td>\n",
       "      <td>7.0</td>\n",
       "      <td>250.000</td>\n",
       "      <td>3000000</td>\n",
       "    </tr>\n",
       "    <tr>\n",
       "      <th>Mercedes-AMG ONE</th>\n",
       "      <td>1.6</td>\n",
       "      <td>V6</td>\n",
       "      <td>748.0</td>\n",
       "      <td>8.0</td>\n",
       "      <td>217.000</td>\n",
       "      <td>2653000</td>\n",
       "    </tr>\n",
       "    <tr>\n",
       "      <th>Mercedes-AMG ONE</th>\n",
       "      <td>1.6</td>\n",
       "      <td>V6</td>\n",
       "      <td>748.0</td>\n",
       "      <td>8.0</td>\n",
       "      <td>217.000</td>\n",
       "      <td>2853000</td>\n",
       "    </tr>\n",
       "    <tr>\n",
       "      <th>McLaren Sennaaaa</th>\n",
       "      <td>4</td>\n",
       "      <td>V8987654</td>\n",
       "      <td>789.0</td>\n",
       "      <td>0.0</td>\n",
       "      <td>211.000</td>\n",
       "      <td>1500000</td>\n",
       "    </tr>\n",
       "    <tr>\n",
       "      <th>Koenigseeeggg Agera</th>\n",
       "      <td>5</td>\n",
       "      <td>V8</td>\n",
       "      <td>1016.0</td>\n",
       "      <td>0.0</td>\n",
       "      <td>249.000</td>\n",
       "      <td>2500000</td>\n",
       "    </tr>\n",
       "    <tr>\n",
       "      <th>Porsche 918 Spyder</th>\n",
       "      <td>Hello</td>\n",
       "      <td>V8</td>\n",
       "      <td>0.0</td>\n",
       "      <td>7.0</td>\n",
       "      <td>211.000</td>\n",
       "      <td>900000</td>\n",
       "    </tr>\n",
       "    <tr>\n",
       "      <th>Ferrari LaFerrari</th>\n",
       "      <td>6.3</td>\n",
       "      <td>V12</td>\n",
       "      <td>949.0</td>\n",
       "      <td>7.0</td>\n",
       "      <td>0.000</td>\n",
       "      <td>2000000</td>\n",
       "    </tr>\n",
       "    <tr>\n",
       "      <th>Pagaaani Huayra BC</th>\n",
       "      <td>6</td>\n",
       "      <td>__</td>\n",
       "      <td>745.0</td>\n",
       "      <td>7.0</td>\n",
       "      <td>230.000</td>\n",
       "      <td>2550000</td>\n",
       "    </tr>\n",
       "    <tr>\n",
       "      <th>Aston Martin Valkyrie</th>\n",
       "      <td>6.590987865</td>\n",
       "      <td>V12</td>\n",
       "      <td>0.0</td>\n",
       "      <td>0.0</td>\n",
       "      <td>250.000</td>\n",
       "      <td>3200000</td>\n",
       "    </tr>\n",
       "    <tr>\n",
       "      <th>Bugatti Veyronre</th>\n",
       "      <td>8</td>\n",
       "      <td>W16</td>\n",
       "      <td>987.0</td>\n",
       "      <td>7.0</td>\n",
       "      <td>267.856</td>\n",
       "      <td>2000000</td>\n",
       "    </tr>\n",
       "    <tr>\n",
       "      <th>Bugatti Veyronre</th>\n",
       "      <td>8</td>\n",
       "      <td>W16</td>\n",
       "      <td>987.0</td>\n",
       "      <td>7.0</td>\n",
       "      <td>267.856</td>\n",
       "      <td>2100000</td>\n",
       "    </tr>\n",
       "  </tbody>\n",
       "</table>\n",
       "</div>"
      ],
      "text/plain": [
       "                      Displacement   Enginee      hp  Transmission  \\\n",
       "Car Name                                                             \n",
       "McLaren F1             6.100000345       V12   618.0           6.0   \n",
       "Bugatti Chiron                   8       W16  1479.0           7.0   \n",
       "Mercedes-AMG ONE               1.6        V6   748.0           8.0   \n",
       "Mercedes-AMG ONE               1.6        V6   748.0           8.0   \n",
       "McLaren Sennaaaa                 4  V8987654   789.0           0.0   \n",
       "Koenigseeeggg Agera              5        V8  1016.0           0.0   \n",
       "Porsche 918 Spyder           Hello        V8     0.0           7.0   \n",
       "Ferrari LaFerrari              6.3       V12   949.0           7.0   \n",
       "Pagaaani Huayra BC               6        __   745.0           7.0   \n",
       "Aston Martin Valkyrie  6.590987865       V12     0.0           0.0   \n",
       "Bugatti Veyronre                 8       W16   987.0           7.0   \n",
       "Bugatti Veyronre                 8       W16   987.0           7.0   \n",
       "\n",
       "                       Toppp-speeed      Cost  \n",
       "Car Name                                       \n",
       "McLaren F1                  243.000  25000000  \n",
       "Bugatti Chiron              250.000   3000000  \n",
       "Mercedes-AMG ONE            217.000   2653000  \n",
       "Mercedes-AMG ONE            217.000   2853000  \n",
       "McLaren Sennaaaa            211.000   1500000  \n",
       "Koenigseeeggg Agera         249.000   2500000  \n",
       "Porsche 918 Spyder          211.000    900000  \n",
       "Ferrari LaFerrari             0.000   2000000  \n",
       "Pagaaani Huayra BC          230.000   2550000  \n",
       "Aston Martin Valkyrie       250.000   3200000  \n",
       "Bugatti Veyronre            267.856   2000000  \n",
       "Bugatti Veyronre            267.856   2100000  "
      ]
     },
     "execution_count": 234,
     "metadata": {},
     "output_type": "execute_result"
    }
   ],
   "source": [
    "# Заполнить пустые значения нулями\n",
    "df = pd.read_csv(\n",
    "    '../CSV/Hyper_Cars_2019.csv',\n",
    "    index_col = 0 # Номер столбца который будет индексом\n",
    ").fillna(0)\n",
    "\n",
    "df.head(None) # Отображение всех записей"
   ]
  },
  {
   "cell_type": "code",
   "execution_count": 245,
   "metadata": {},
   "outputs": [
    {
     "data": {
      "text/html": [
       "<div>\n",
       "<style scoped>\n",
       "    .dataframe tbody tr th:only-of-type {\n",
       "        vertical-align: middle;\n",
       "    }\n",
       "\n",
       "    .dataframe tbody tr th {\n",
       "        vertical-align: top;\n",
       "    }\n",
       "\n",
       "    .dataframe thead th {\n",
       "        text-align: right;\n",
       "    }\n",
       "</style>\n",
       "<table border=\"1\" class=\"dataframe\">\n",
       "  <thead>\n",
       "    <tr style=\"text-align: right;\">\n",
       "      <th></th>\n",
       "      <th>Displacement</th>\n",
       "      <th>Enginee</th>\n",
       "      <th>hp</th>\n",
       "      <th>Transmission</th>\n",
       "      <th>Toppp-speeed</th>\n",
       "      <th>Cost</th>\n",
       "    </tr>\n",
       "    <tr>\n",
       "      <th>Car Name</th>\n",
       "      <th></th>\n",
       "      <th></th>\n",
       "      <th></th>\n",
       "      <th></th>\n",
       "      <th></th>\n",
       "      <th></th>\n",
       "    </tr>\n",
       "  </thead>\n",
       "  <tbody>\n",
       "    <tr>\n",
       "      <th>McLaren F1</th>\n",
       "      <td>6.100000345</td>\n",
       "      <td>V12</td>\n",
       "      <td>618.0</td>\n",
       "      <td>6.0</td>\n",
       "      <td>243.0</td>\n",
       "      <td>25000000.0</td>\n",
       "    </tr>\n",
       "    <tr>\n",
       "      <th>Ferrari LaFerrari</th>\n",
       "      <td>6.3</td>\n",
       "      <td>V12</td>\n",
       "      <td>949.0</td>\n",
       "      <td>7.0</td>\n",
       "      <td>0.0</td>\n",
       "      <td>2000000.0</td>\n",
       "    </tr>\n",
       "    <tr>\n",
       "      <th>Aston Martin Valkyrie</th>\n",
       "      <td>6.590987865</td>\n",
       "      <td>V12</td>\n",
       "      <td>0.0</td>\n",
       "      <td>0.0</td>\n",
       "      <td>250.0</td>\n",
       "      <td>3200000.0</td>\n",
       "    </tr>\n",
       "  </tbody>\n",
       "</table>\n",
       "</div>"
      ],
      "text/plain": [
       "                      Displacement Enginee     hp  Transmission  Toppp-speeed  \\\n",
       "Car Name                                                                        \n",
       "McLaren F1             6.100000345     V12  618.0           6.0         243.0   \n",
       "Ferrari LaFerrari              6.3     V12  949.0           7.0           0.0   \n",
       "Aston Martin Valkyrie  6.590987865     V12    0.0           0.0         250.0   \n",
       "\n",
       "                             Cost  \n",
       "Car Name                           \n",
       "McLaren F1             25000000.0  \n",
       "Ferrari LaFerrari       2000000.0  \n",
       "Aston Martin Valkyrie   3200000.0  "
      ]
     },
     "execution_count": 245,
     "metadata": {},
     "output_type": "execute_result"
    }
   ],
   "source": [
    "# Выбрать только те строки, где Enginee = V12\n",
    "enginee = df.where(df['Enginee'] == 'V12').dropna()\n",
    "\n",
    "enginee.head(None)"
   ]
  },
  {
   "cell_type": "code",
   "execution_count": 246,
   "metadata": {},
   "outputs": [
    {
     "data": {
      "text/plain": [
       "1"
      ]
     },
     "execution_count": 246,
     "metadata": {},
     "output_type": "execute_result"
    }
   ],
   "source": [
    "# Подсчет количества строк с указанными параметрами\n",
    "len(df[(df['Enginee'] == 'V6') & (df['Cost'] > 2700000)])"
   ]
  },
  {
   "cell_type": "code",
   "execution_count": null,
   "metadata": {},
   "outputs": [],
   "source": []
  }
 ],
 "metadata": {
  "kernelspec": {
   "display_name": "Python 3",
   "language": "python",
   "name": "python3"
  },
  "language_info": {
   "codemirror_mode": {
    "name": "ipython",
    "version": 3
   },
   "file_extension": ".py",
   "mimetype": "text/x-python",
   "name": "python",
   "nbconvert_exporter": "python",
   "pygments_lexer": "ipython3",
   "version": "3.8.3"
  }
 },
 "nbformat": 4,
 "nbformat_minor": 4
}
