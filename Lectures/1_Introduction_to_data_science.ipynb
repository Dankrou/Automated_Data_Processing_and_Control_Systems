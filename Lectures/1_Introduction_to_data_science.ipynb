{
 "cells": [
  {
   "cell_type": "markdown",
   "metadata": {},
   "source": [
    "## Автоматизированные информационно-управляющие системы\n",
    "\n",
    "### Лекция 1. Введение в науку о данных\n",
    "\n",
    "<hr>"
   ]
  },
  {
   "cell_type": "markdown",
   "metadata": {},
   "source": [
    "### Версия Python"
   ]
  },
  {
   "cell_type": "code",
   "execution_count": 1,
   "metadata": {},
   "outputs": [
    {
     "name": "stdout",
     "output_type": "stream",
     "text": [
      "Python 3.8.3\n"
     ]
    }
   ],
   "source": [
    "!python --version"
   ]
  },
  {
   "cell_type": "markdown",
   "metadata": {},
   "source": [
    "<hr>\n",
    "\n",
    "### Импорт необходимых инструментов"
   ]
  },
  {
   "cell_type": "code",
   "execution_count": 3,
   "metadata": {},
   "outputs": [],
   "source": [
    "import numpy as np              # Научные вычисления\n",
    "import pandas as pd             # Обработка и анализ данных\n",
    "import matplotlib as mpl        # Визуализация графиков\n",
    "import matplotlib.pyplot as plt # MATLAB-подобный способ построения графиков\n",
    "import seaborn as sns           # Визуализация графиков (надстройка над matplotlib)"
   ]
  },
  {
   "cell_type": "markdown",
   "metadata": {},
   "source": [
    "### Настройки необходимых инструментов"
   ]
  },
  {
   "cell_type": "code",
   "execution_count": 5,
   "metadata": {},
   "outputs": [],
   "source": [
    "pd.set_option('display.max_columns', None) # Максимальное количество отображаемых столбцов\n",
    "pd.set_option('display.max_rows', None)    # Максимальное количество отображаемых строк"
   ]
  },
  {
   "cell_type": "markdown",
   "metadata": {},
   "source": [
    "### Версии необходимых библиотек"
   ]
  },
  {
   "cell_type": "code",
   "execution_count": 6,
   "metadata": {},
   "outputs": [
    {
     "data": {
      "text/html": [
       "<style  type=\"text/css\" >\n",
       "</style><table id=\"T_b0a6f178_ee8b_11ea_b475_acde48001122\" ><thead>    <tr>        <th class=\"col_heading level0 col0\" >Package</th>        <th class=\"col_heading level0 col1\" >Version</th>    </tr></thead><tbody>\n",
       "                <tr>\n",
       "                                <td id=\"T_b0a6f178_ee8b_11ea_b475_acde48001122row0_col0\" class=\"data row0 col0\" >NumPy</td>\n",
       "                        <td id=\"T_b0a6f178_ee8b_11ea_b475_acde48001122row0_col1\" class=\"data row0 col1\" >1.18.5</td>\n",
       "            </tr>\n",
       "            <tr>\n",
       "                                <td id=\"T_b0a6f178_ee8b_11ea_b475_acde48001122row1_col0\" class=\"data row1 col0\" >Pandas</td>\n",
       "                        <td id=\"T_b0a6f178_ee8b_11ea_b475_acde48001122row1_col1\" class=\"data row1 col1\" >1.0.5</td>\n",
       "            </tr>\n",
       "            <tr>\n",
       "                                <td id=\"T_b0a6f178_ee8b_11ea_b475_acde48001122row2_col0\" class=\"data row2 col0\" >Matplotlib</td>\n",
       "                        <td id=\"T_b0a6f178_ee8b_11ea_b475_acde48001122row2_col1\" class=\"data row2 col1\" >3.2.2</td>\n",
       "            </tr>\n",
       "            <tr>\n",
       "                                <td id=\"T_b0a6f178_ee8b_11ea_b475_acde48001122row3_col0\" class=\"data row3 col0\" >Seaborn</td>\n",
       "                        <td id=\"T_b0a6f178_ee8b_11ea_b475_acde48001122row3_col1\" class=\"data row3 col1\" >0.10.1</td>\n",
       "            </tr>\n",
       "    </tbody></table>"
      ],
      "text/plain": [
       "<pandas.io.formats.style.Styler at 0x7ff2ba1dcfa0>"
      ]
     },
     "execution_count": 6,
     "metadata": {},
     "output_type": "execute_result"
    }
   ],
   "source": [
    "pkgs = {\n",
    "    'Package': [\n",
    "        'NumPy', 'Pandas', 'Matplotlib', 'Seaborn'],\n",
    "    'Version': [i.__version__ for i in [np, pd, mpl, sns]]}\n",
    "\n",
    "df_pkgs = pd.DataFrame(data = pkgs)   # Версии используемых библиотек\n",
    "df_pkgs.head(None).style.hide_index() # Отображение первых N строк или все если указать None"
   ]
  },
  {
   "cell_type": "code",
   "execution_count": null,
   "metadata": {},
   "outputs": [],
   "source": []
  }
 ],
 "metadata": {
  "kernelspec": {
   "display_name": "Python 3",
   "language": "python",
   "name": "python3"
  },
  "language_info": {
   "codemirror_mode": {
    "name": "ipython",
    "version": 3
   },
   "file_extension": ".py",
   "mimetype": "text/x-python",
   "name": "python",
   "nbconvert_exporter": "python",
   "pygments_lexer": "ipython3",
   "version": "3.8.3"
  }
 },
 "nbformat": 4,
 "nbformat_minor": 4
}
