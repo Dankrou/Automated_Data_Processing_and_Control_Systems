{
 "cells": [
  {
   "cell_type": "code",
   "execution_count": 5,
   "metadata": {},
   "outputs": [
    {
     "name": "stdout",
     "output_type": "stream",
     "text": [
      "Python 3.8.5\n"
     ]
    }
   ],
   "source": [
    "!python --version"
   ]
  },
  {
   "cell_type": "code",
   "execution_count": 6,
   "metadata": {},
   "outputs": [],
   "source": [
    "import tensorflow as tf # Машинное обучение\n",
    "import keras # API для TensorFlow\n",
    "import pandas as pd # Обработка и анализ данных\n",
    "import numpy as np # Научные вычисления"
   ]
  },
  {
   "cell_type": "code",
   "execution_count": 7,
   "metadata": {},
   "outputs": [
    {
     "data": {
      "text/html": [
       "<style  type=\"text/css\" >\n",
       "</style><table id=\"T_a0dd362c_2fe4_11eb_9bfb_d050998c0466\" ><thead>    <tr>        <th class=\"col_heading level0 col0\" >Package</th>        <th class=\"col_heading level0 col1\" >Version</th>    </tr></thead><tbody>\n",
       "                <tr>\n",
       "                                <td id=\"T_a0dd362c_2fe4_11eb_9bfb_d050998c0466row0_col0\" class=\"data row0 col0\" >TensorFlow</td>\n",
       "                        <td id=\"T_a0dd362c_2fe4_11eb_9bfb_d050998c0466row0_col1\" class=\"data row0 col1\" >2.3.1</td>\n",
       "            </tr>\n",
       "            <tr>\n",
       "                                <td id=\"T_a0dd362c_2fe4_11eb_9bfb_d050998c0466row1_col0\" class=\"data row1 col0\" >Keras</td>\n",
       "                        <td id=\"T_a0dd362c_2fe4_11eb_9bfb_d050998c0466row1_col1\" class=\"data row1 col1\" >2.4.3</td>\n",
       "            </tr>\n",
       "            <tr>\n",
       "                                <td id=\"T_a0dd362c_2fe4_11eb_9bfb_d050998c0466row2_col0\" class=\"data row2 col0\" >NumPy</td>\n",
       "                        <td id=\"T_a0dd362c_2fe4_11eb_9bfb_d050998c0466row2_col1\" class=\"data row2 col1\" >1.18.5</td>\n",
       "            </tr>\n",
       "            <tr>\n",
       "                                <td id=\"T_a0dd362c_2fe4_11eb_9bfb_d050998c0466row3_col0\" class=\"data row3 col0\" >Pandas</td>\n",
       "                        <td id=\"T_a0dd362c_2fe4_11eb_9bfb_d050998c0466row3_col1\" class=\"data row3 col1\" >1.1.3</td>\n",
       "            </tr>\n",
       "    </tbody></table>"
      ],
      "text/plain": [
       "<pandas.io.formats.style.Styler at 0x232b2e6f760>"
      ]
     },
     "execution_count": 7,
     "metadata": {},
     "output_type": "execute_result"
    }
   ],
   "source": [
    "pkgs = {\n",
    "    'Package': ['TensorFlow', 'Keras', 'NumPy', 'Pandas'],\n",
    "    'Version': [i.__version__ for i in [tf, keras, np, pd]]}\n",
    "\n",
    "df_pkgs = pd.DataFrame(data = pkgs) # Версии используемых библиотек\n",
    "df_pkgs.head(None).style.hide_index() # Отображение первых N строк или все если указать None"
   ]
  },
  {
   "cell_type": "code",
   "execution_count": 176,
   "metadata": {},
   "outputs": [],
   "source": [
    "# Набор данных\n",
    "xs = np.array([1, 2, 3, 4], dtype = float) # X\n",
    "ys = np.array([250.0, 300.0, 350.0, 400.0], dtype = float) # Y"
   ]
  },
  {
   "cell_type": "code",
   "execution_count": 195,
   "metadata": {},
   "outputs": [],
   "source": [
    "# Модель с последовательными слоями в нейронной сети\n",
    "model = keras.Sequential([\n",
    "    # Полносвязный слой\n",
    "    keras.layers.Dense(\n",
    "        units = 1, # Количество нейронов\n",
    "        input_shape = [1] # Входные данные\n",
    "    )\n",
    "])\n"
   ]
  },
  {
   "cell_type": "code",
   "execution_count": 196,
   "metadata": {},
   "outputs": [
    {
     "name": "stdout",
     "output_type": "stream",
     "text": [
      "Model: \"sequential_27\"\n",
      "_________________________________________________________________\n",
      "Layer (type)                 Output Shape              Param #   \n",
      "=================================================================\n",
      "dense_27 (Dense)             (None, 1)                 2         \n",
      "=================================================================\n",
      "Total params: 2\n",
      "Trainable params: 2\n",
      "Non-trainable params: 0\n",
      "_________________________________________________________________\n"
     ]
    }
   ],
   "source": [
    "# Сборка модели\n",
    "model.compile(\n",
    "    optimizer = 'sgd', # Оптимизатор\n",
    "    loss = 'mean_squared_error', # Функция потерь\n",
    "    metrics = ['accuracy'] # Метрика оценивания\n",
    ")\n",
    "\n",
    "model.summary()"
   ]
  },
  {
   "cell_type": "code",
   "execution_count": 201,
   "metadata": {},
   "outputs": [
    {
     "data": {
      "text/plain": [
       "<tensorflow.python.keras.callbacks.History at 0x232d561e8b0>"
      ]
     },
     "execution_count": 201,
     "metadata": {},
     "output_type": "execute_result"
    }
   ],
   "source": [
    "# Обучение модели\n",
    "model.fit(\n",
    "    xs, # X\n",
    "    ys, # Y\n",
    "    epochs = 1500, # Количество эпох\n",
    "    verbose = False # Отключение вывода\n",
    ")"
   ]
  },
  {
   "cell_type": "code",
   "execution_count": 202,
   "metadata": {},
   "outputs": [
    {
     "name": "stdout",
     "output_type": "stream",
     "text": [
      "[[550.0284]]\n"
     ]
    }
   ],
   "source": [
    "print(model.predict([7]))\n"
   ]
  },
  {
   "cell_type": "code",
   "execution_count": null,
   "metadata": {},
   "outputs": [],
   "source": []
  }
 ],
 "metadata": {
  "kernelspec": {
   "display_name": "Python 3",
   "language": "python",
   "name": "python3"
  },
  "language_info": {
   "codemirror_mode": {
    "name": "ipython",
    "version": 3
   },
   "file_extension": ".py",
   "mimetype": "text/x-python",
   "name": "python",
   "nbconvert_exporter": "python",
   "pygments_lexer": "ipython3",
   "version": "3.8.5"
  }
 },
 "nbformat": 4,
 "nbformat_minor": 4
}
